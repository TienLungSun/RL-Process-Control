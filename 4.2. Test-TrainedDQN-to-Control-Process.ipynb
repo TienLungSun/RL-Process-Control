{
 "cells": [
  {
   "cell_type": "code",
   "execution_count": 1,
   "metadata": {},
   "outputs": [],
   "source": [
    "import torch\n",
    "import torch.nn as nn\n",
    "import torch.nn.functional as F\n",
    "import numpy as np\n",
    "import pandas as pd\n",
    "import matplotlib.pyplot as plt\n",
    "from scipy.integrate import odeint\n",
    "from IPython import display"
   ]
  },
  {
   "cell_type": "code",
   "execution_count": 2,
   "metadata": {},
   "outputs": [],
   "source": [
    "# Hyper Parameters for DQN\n",
    "N_ACTIONS = 1001    # 1000 values\n",
    "N_STATES = 2        # [set value, process output value]"
   ]
  },
  {
   "cell_type": "code",
   "execution_count": null,
   "metadata": {},
   "outputs": [],
   "source": [
    "if torch.cuda.is_available():\n",
    "    _cuda_ = True\n",
    "else:\n",
    "    _cuda_ = False"
   ]
  },
  {
   "cell_type": "code",
   "execution_count": null,
   "metadata": {},
   "outputs": [],
   "source": [
    "_cuda_"
   ]
  },
  {
   "cell_type": "code",
   "execution_count": 3,
   "metadata": {},
   "outputs": [],
   "source": [
    "class Net(nn.Module):\n",
    "    def __init__(self, ):\n",
    "        super(Net, self).__init__()\n",
    "        if _cuda_:\n",
    "            self.fc1 = nn.Linear(N_STATES, 50).cuda()\n",
    "            self.fc1.weight.data.normal_(0, 0.1)   # initialization\n",
    "            self.out = nn.Linear(50, N_ACTIONS).cuda()\n",
    "            self.out.weight.data.normal_(0, 0.1)   # initialization\n",
    "        else:\n",
    "            self.fc1 = nn.Linear(N_STATES, 50)\n",
    "            self.fc1.weight.data.normal_(0, 0.1)   # initialization\n",
    "            self.out = nn.Linear(50, N_ACTIONS)\n",
    "            self.out.weight.data.normal_(0, 0.1)   # initialization\n",
    "\n",
    "    def forward(self, x):\n",
    "        x = self.fc1(x)\n",
    "        x = F.relu(x)\n",
    "        actions_value = self.out(x)\n",
    "        return actions_value"
   ]
  },
  {
   "cell_type": "code",
   "execution_count": 4,
   "metadata": {},
   "outputs": [],
   "source": [
    "class DQN(object):\n",
    "    def __init__(self):\n",
    "        self.eval_net = Net()\n",
    "\n",
    "    def choose_action(self, x):\n",
    "        if _cuda_:\n",
    "            x = torch.unsqueeze(torch.FloatTensor(x), 0).cuda()\n",
    "        else:\n",
    "            x = torch.unsqueeze(torch.FloatTensor(x), 0)\n",
    "        actions_value = self.eval_net.forward(x)\n",
    "        action = torch.max(actions_value, 1)[1].cpu().data.numpy()\n",
    "        action = action[0]  # return the argmax index\n",
    "        return action\n",
    "    \n",
    "    def take_action(self, a, factor): # a = index of output node, 0~10\n",
    "        value = a*0.01\n",
    "        return value\n",
    "    \n",
    "    def reward(self, s):  # s = [set_value, process_output, d(process_output)/dt]\n",
    "        error = abs(s[1] -s[0]) # process_output - set_value\n",
    "        r = -(error**2)*1000\n",
    "        return r"
   ]
  },
  {
   "cell_type": "code",
   "execution_count": 5,
   "metadata": {},
   "outputs": [],
   "source": [
    "dqn = DQN()"
   ]
  },
  {
   "cell_type": "code",
   "execution_count": 6,
   "metadata": {},
   "outputs": [],
   "source": [
    "# Load trained weight\n",
    "dqn.eval_net.load_state_dict(torch.load('2018_09_28_dqn.pkl'))"
   ]
  },
  {
   "cell_type": "code",
   "execution_count": 8,
   "metadata": {},
   "outputs": [
    {
     "name": "stdout",
     "output_type": "stream",
     "text": [
      "7\n"
     ]
    }
   ],
   "source": [
    "a = dqn.choose_action([1.5, 2.0])\n",
    "print(a)"
   ]
  },
  {
   "cell_type": "markdown",
   "metadata": {},
   "source": [
    "# Define the control process  "
   ]
  },
  {
   "cell_type": "code",
   "execution_count": 9,
   "metadata": {},
   "outputs": [],
   "source": [
    "# Hyper Parameters for process\n",
    "ns = 2000  # number of steps\n",
    "t = np.linspace(0,ns/10,ns+1) # time points, if 10 control steps/per second, then 1 min. has 600 steps \n",
    "delta_t = t[1]-t[0]\n",
    "\n",
    "KP=1.0    # process gain\n",
    "TAUP =20.0 #process time constant\n",
    "\n",
    "sv = np.zeros(ns+1)  # set point\n",
    "p_out = np.zeros(ns+1)  # record process output\n",
    "p_out_unit_step = np.zeros(ns+1)  # process output from unit step\n",
    "action = np.zeros(ns+1) #RL Controller output\n",
    "reward = np.zeros(ns+1)"
   ]
  },
  {
   "cell_type": "code",
   "execution_count": 10,
   "metadata": {},
   "outputs": [],
   "source": [
    "# process model\n",
    "def process(y,t,u,Kp,taup):\n",
    "    dydt = -y/taup + Kp/taup * u\n",
    "    return dydt"
   ]
  },
  {
   "cell_type": "code",
   "execution_count": 11,
   "metadata": {},
   "outputs": [],
   "source": [
    "n_a = 1.0\n",
    "noise= (n_a)+n_a*np.sin(np.linspace(0., (10)*np.pi, ns+1))"
   ]
  },
  {
   "cell_type": "markdown",
   "metadata": {},
   "source": [
    "# Control the process use the trained DQN"
   ]
  },
  {
   "cell_type": "code",
   "execution_count": null,
   "metadata": {},
   "outputs": [],
   "source": [
    "# Duild different set value \n",
    "def Compose_sv():\n",
    "    start_index = 0\n",
    "    end_index = 0\n",
    "    max_range = ns/5 \n",
    "    min_range = ns/20\n",
    "    max_sv = 8\n",
    "    min_sv = 0.1\n",
    "    finish = False \n",
    "    while not finish:\n",
    "        end_index = start_index + random.randint(min_range, max_range)\n",
    "        value = random.uniform(min_sv, max_sv)\n",
    "        if end_index > ns:\n",
    "            end_index = ns\n",
    "            finish = True\n",
    "        sv[start_index:end_index] = value\n",
    "        print(\"sv[\", start_index, ':', end_index, ']=', value)\n",
    "        start_index = end_index"
   ]
  },
  {
   "cell_type": "code",
   "execution_count": 12,
   "metadata": {},
   "outputs": [],
   "source": [
    "Compose_sv()"
   ]
  },
  {
   "cell_type": "code",
   "execution_count": null,
   "metadata": {},
   "outputs": [],
   "source": [
    "plt.figure(figsize=(18,4)) \n",
    "plt.plot(sv, 'r', lw =2)\n",
    "plt.xlabel('i')\n",
    "plt.ylabel('s[i]')\n",
    "plt.xticks(np.arange(0, 100000, step=5000))\n",
    "plt.show()"
   ]
  },
  {
   "cell_type": "code",
   "execution_count": 13,
   "metadata": {},
   "outputs": [
    {
     "data": {
      "image/png": "[encoded data removed]",
      "text/plain": [
       "<matplotlib.figure.Figure at 0x7f71141382e8>"
      ]
     },
     "metadata": {},
     "output_type": "display_data"
    },
    {
     "name": "stdout",
     "output_type": "stream",
     "text": [
      "Episode:  1 , Control step = 99500 , Time =  9950.0 (sec)\n",
      "Ep_r =  -500135.14\n"
     ]
    }
   ],
   "source": [
    "ep_rLst = []\n",
    "for i_episode in range(1):\n",
    "    ep_r = 0   \n",
    "    Compose_sv()\n",
    "    s = [sv[0], 0.0, 0.0]  # initial state = [set_value, process_output=0, d(process_output)/dt=0]\n",
    "    p_out[:]=0.0\n",
    "    action[:]=0.0 #clear data\n",
    "    for i in range(0, ns): # run control steps\n",
    "        a = dqn.choose_action(s)         # a = index of the 11 output nodes, 0~10\n",
    "        action[i] = dqn.take_action(a, 0.1)   # action = 0, 1*factor, 2*factor, ..., 10*factor\n",
    "        if action[i] > ACTION_HI:\n",
    "            action[i] = ACTION_HI\n",
    "        elif action[i] < ACTION_LOW:\n",
    "            action[i] = ACTION_LOW\n",
    "        y = odeint(process,p_out[i],[0,delta_t],args=(action[i]+noise[i],KP,TAUP))\n",
    "        p_out[i+1] = y[-1][0]\n",
    "        dp_out[i+1] = (p_out[i+1]-p_out[i])/delta_t\n",
    "        s_ = [sv[i+1], p_out[i+1], dp_out[i+1]]   # state = [set_value, process_output, d(process_output)/dt]\n",
    "        r = dqn.reward(s_)      \n",
    "        ep_r += r\n",
    "        s = s_\n",
    "        if(i%500 == 0):\n",
    "            # draw process control performance\n",
    "            display.clear_output(wait=True)\n",
    "            plt.figure(figsize=(18,6))\n",
    "            plt.subplot(2, 1, 1) # 1 row * 2columns\n",
    "            plt.plot(t, sv, 'r-', lw =1, label='Set Value')\n",
    "            plt.plot(t, p_out, 'b--', lw =1, label='Process Value')\n",
    "            plt.legend(loc = 'best')\n",
    "            plt.xlabel('Time(sec)')\n",
    "            plt.xlim([0, 10000])\n",
    "            plt.ylim([0, 15])\n",
    "            plt.xticks(np.arange(0, 10000, step=1000))\n",
    "            plt.grid()\n",
    "\n",
    "            plt.subplot(2, 1, 2) \n",
    "            plt.plot(t, action, 'k--', lw =0.5)\n",
    "            plt.xlabel('Time(sec)')\n",
    "            plt.ylabel('Action Value')\n",
    "            plt.xlim([0, 10000])\n",
    "            plt.grid(True)\n",
    "            plt.pause(0.1)\n",
    "            print('Episode: ', i_episode+1, ', Control step =', i, ', Time = ', i/10, '(sec)')\n",
    "    # finish one episode \n",
    "    ep_r = round(ep_r, 2)\n",
    "    print('Ep_r = ', ep_r)\n",
    "    ep_rLst.append(ep_r)"
   ]
  },
  {
   "cell_type": "code",
   "execution_count": null,
   "metadata": {},
   "outputs": [],
   "source": []
  }
 ],
 "metadata": {
  "kernelspec": {
   "display_name": "Python 3",
   "language": "python",
   "name": "python3"
  },
  "language_info": {
   "codemirror_mode": {
    "name": "ipython",
    "version": 3
   },
   "file_extension": ".py",
   "mimetype": "text/x-python",
   "name": "python",
   "nbconvert_exporter": "python",
   "pygments_lexer": "ipython3",
   "version": "3.7.6"
  }
 },
 "nbformat": 4,
 "nbformat_minor": 2
}
